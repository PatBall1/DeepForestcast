{
 "metadata": {
  "language_info": {
   "codemirror_mode": {
    "name": "ipython",
    "version": 3
   },
   "file_extension": ".py",
   "mimetype": "text/x-python",
   "name": "python",
   "nbconvert_exporter": "python",
   "pygments_lexer": "ipython3",
   "version": "3.7.3-final"
  },
  "orig_nbformat": 2,
  "kernelspec": {
   "name": "python3",
   "display_name": "Python 3"
  }
 },
 "nbformat": 4,
 "nbformat_minor": 2,
 "cells": [
  {
   "cell_type": "code",
   "execution_count": 1,
   "metadata": {},
   "outputs": [],
   "source": [
    "import pandas as pd\n",
    "import geopandas as gpd\n",
    "import rasterio\n",
    "from rasterio.merge import merge\n",
    "from rasterio.plot import show\n",
    "from Download_functions import create_filenames, get_tiles, create_links\n",
    "\n"
   ]
  },
  {
   "cell_type": "code",
   "execution_count": 2,
   "metadata": {},
   "outputs": [],
   "source": [
    "gridPath = \"../inputs/gfc_tiles.shp\"\n",
    "boundaryPath = \"../inputs/MadreDeDios_buffer0.05.shp\"\n",
    "downloadPath = \"../downloads/\"\n",
    "\n",
    "boundary = gpd.read_file(boundaryPath)\n",
    "tiles = get_tiles(boundary, gridPath)"
   ]
  },
  {
   "cell_type": "code",
   "execution_count": 3,
   "metadata": {},
   "outputs": [],
   "source": [
    "names = create_filenames(tiles, 2019, \"last\")"
   ]
  },
  {
   "cell_type": "code",
   "execution_count": 4,
   "metadata": {},
   "outputs": [],
   "source": [
    "files = []\n",
    "for name in names:\n",
    "    path = downloadPath + name\n",
    "    src = rasterio.open(path)\n",
    "    files.append(src)"
   ]
  },
  {
   "cell_type": "code",
   "execution_count": 5,
   "metadata": {},
   "outputs": [
    {
     "output_type": "execute_result",
     "data": {
      "text/plain": "[<open DatasetReader name='../downloads/Hansen_GFC-2019-v1.7_last_00N_080W.tif' mode='r'>,\n <open DatasetReader name='../downloads/Hansen_GFC-2019-v1.7_last_10S_080W.tif' mode='r'>,\n <open DatasetReader name='../downloads/Hansen_GFC-2019-v1.7_last_10S_070W.tif' mode='r'>]"
     },
     "metadata": {},
     "execution_count": 5
    }
   ],
   "source": [
    "files"
   ]
  },
  {
   "cell_type": "code",
   "execution_count": 6,
   "metadata": {},
   "outputs": [],
   "source": [
    "\n",
    "mosaic, out_trans = merge(files, bounds=boundary.geometry[0].bounds)\n",
    "\n"
   ]
  },
  {
   "cell_type": "code",
   "execution_count": 8,
   "metadata": {},
   "outputs": [
    {
     "output_type": "execute_result",
     "data": {
      "text/plain": "array([[[13, 13, 13, ...,  0,  0,  0],\n        [13, 13, 13, ...,  0,  0,  0],\n        [14, 13, 13, ...,  0,  0,  0],\n        ...,\n        [44, 53, 48, ..., 12, 12, 11],\n        [38, 46, 55, ..., 12, 12, 11],\n        [39, 41, 48, ..., 12, 11, 12]],\n\n       [[88, 82, 79, ...,  0,  0,  0],\n        [85, 82, 79, ...,  0,  0,  0],\n        [82, 80, 78, ...,  0,  0,  0],\n        ...,\n        [53, 58, 55, ..., 75, 78, 77],\n        [47, 53, 62, ..., 75, 78, 77],\n        [50, 51, 56, ..., 76, 77, 76]],\n\n       [[63, 62, 64, ...,  0,  0,  0],\n        [62, 61, 61, ...,  0,  0,  0],\n        [62, 60, 61, ...,  0,  0,  0],\n        ...,\n        [81, 96, 86, ..., 58, 60, 58],\n        [68, 84, 98, ..., 58, 60, 58],\n        [69, 74, 85, ..., 57, 56, 56]],\n\n       [[24, 24, 26, ...,  0,  0,  0],\n        [24, 24, 25, ...,  0,  0,  0],\n        [24, 24, 24, ...,  0,  0,  0],\n        ...,\n        [49, 58, 52, ..., 22, 22, 21],\n        [39, 51, 60, ..., 22, 22, 21],\n        [40, 44, 51, ..., 21, 21, 21]]], dtype=uint8)"
     },
     "metadata": {},
     "execution_count": 8
    }
   ],
   "source": [
    "mosaic"
   ]
  },
  {
   "cell_type": "code",
   "execution_count": 15,
   "metadata": {},
   "outputs": [],
   "source": [
    "from matplotlib import pyplot#pyplot.imshow(mosaic[0:3], cmap='terrain')))\n",
    "\n",
    "\n"
   ]
  },
  {
   "cell_type": "code",
   "execution_count": 11,
   "metadata": {},
   "outputs": [
    {
     "output_type": "execute_result",
     "data": {
      "text/plain": "(3, 14274, 15506)"
     },
     "metadata": {},
     "execution_count": 11
    }
   ],
   "source": [
    "mosaic[0:3].shape"
   ]
  },
  {
   "cell_type": "code",
   "execution_count": null,
   "metadata": {},
   "outputs": [],
   "source": [
    "from rasterio.mask import mask\n",
    "\n",
    "for file in files:\n",
    "    file, trans = mask(file, boundary.geometry, crop=True)\n",
    "\n",
    "# %%\n",
    "\n",
    "from rasterio.merge import merge\n",
    "\n",
    "mosaic, out_trans = rasterio.merge.merge(files)\n",
    "\n",
    "# %%\n",
    "from rasterio.mask import mask\n",
    "from rasterio.plot import show\n",
    "import matplotlib\n",
    "\n",
    "mosaic = mask(mosaic, boundary.geometry, crop=True)\n",
    "show(mosaic)\n",
    "\n",
    "# %%\n"
   ]
  }
 ]
}