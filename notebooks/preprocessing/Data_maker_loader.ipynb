{
 "cells": [
  {
   "cell_type": "markdown",
   "metadata": {},
   "source": [
    "# Make data and load data explained"
   ]
  },
  {
   "cell_type": "markdown",
   "metadata": {},
   "source": [
    "Global Forest Change dataset https://earthenginepartners.appspot.com/science-2013-global-forest/download_v1.6.html is divided into 10x10 degree tiles, each of which comes with six raster files per tile: treecover, gain, data mask, loss year, first and last. All files contain unsigned 8-bit values and have a spatial resolution of 1 arc-second per pixel, which correspond to approximately 30 meters per pixel around the equator. After 2013 loss year and last files were updated annually. The last 2018 loss year file assign an integer value 0-18 to each pixel. 1-18 corresponds to the year (2001-2018) at which deforestation event was observed at this location or 0 if the deforestation was not detected there in the period 2001-2018. The dataset is such that once a pixel is assigned as deforestrated, it does not go back to forested at any time in the future. We collected the following ten tif files: treecover, gain, datamask, all \"last\" files from 2014 to 2018 and the most recent, 2018, loss year file. As our target area Madre de Dios is located at the intersection of three of the Hansen dataset tiles, for each of the ten files we collected the the corresponding tiles, merged them together in one raster file and cropped it with the Madre de Dios shape file. R file can be fond in r_code/R.ipynb. The resulting raster file was of spatial size 14646 x 15723 pixels and those pixels that were outside Madre de Dios boundaries were masked as NA values. Since we wish our models to be able to predict the label of each pixel of Madre de Dios area by analyzing an image, or time series of images, that captures its local region, we also included pixels lying in a buffer area of 0.09 degree (or approximately 10km) in our dataset. This allowed us to extract features from images that cover area up to 10km away from any Madre de Dios pixel."
   ]
  },
  {
   "cell_type": "markdown",
   "metadata": {},
   "source": [
    "<br> **from R:**\n",
    "    \n",
    "    Junin area corresponds to two tiles. \n",
    "    An R script has been run to collect this tiles, merge them, and mask them\n",
    "    with Junin area + buffer shape file. See R notebook for more details.\n",
    "\n",
    "    The following tiff files were then created and saved in sourcepath = '/home/ubuntu/Madre':\n",
    "        \n",
    "        datamask_2018.tif  \n",
    "        gain_2018.tif\n",
    "        treecover2000_2018.tif\n",
    "        if_in_buffer.tif\n",
    "        \n",
    "        lossyear_2018.tif\n",
    "        last_2018_1.tif\n",
    "        last_2018_2.tif\n",
    "        last_2018_3.tif\n",
    "        last_2018_4.tif \n",
    "        \n",
    "        last_2017_1.tif\n",
    "        last_2017_2.tif\n",
    "        last_2017_3.tif\n",
    "        last_2017_4.tif\n",
    "        \n",
    "        last_2016_1.tif\n",
    "        last_2016_2.tif\n",
    "        last_2016_3.tif\n",
    "        last_2016_4.tif\n",
    "        \n",
    "        last_2015_1.tif\n",
    "        last_2015_2.tif\n",
    "        last_2015_3.tif\n",
    "        last_2015_4.tif\n",
    "        \n",
    "        last_2014_1.tif\n",
    "        last_2014_2.tif\n",
    "        last_2014_3.tif\n",
    "        last_2014_4.tif\n",
    "\n",
    "        Each file is one layer raster file of shape 14646, 15723. NA values are encoded as -1.\n",
    "        NA values are pixels that were masked as they are not in the Madre de Dios area and its buffer   "
   ]
  },
  {
   "cell_type": "markdown",
   "metadata": {},
   "source": [
    "**datamask_2018.tif**:\n",
    "    \n",
    "    is a layer that has values 0,1,2,or -1.\n",
    "            0 for no data (Madre de Dios does not have pixels with no data)\n",
    "            1 for mapped land surface\n",
    "            2 for permanent woter bodies\n",
    "            -1 for masked pixel\n",
    "\n",
    "**gain_2018.tif**\n",
    "\n",
    "        is a layer that has values 0,1,or -1.\n",
    "            0 for no gain experienced between 2001 and 2012\n",
    "            1 for gain experienced between 2001 and 2012\n",
    "            -1. for masked pixel\n",
    "        \n",
    "**treecover2000_2018.tif**\n",
    "\n",
    "        is a layer that has values between 0,100,or -1.\n",
    "            value between 0 and 100 indicates percentage three cover observed in 2000.\n",
    "            -1 for masked pixel\n",
    "\n",
    "\n",
    "**if_in_buffer.tif**\n",
    "\n",
    "        is a layer that has values 0,1,or -1.\n",
    "            0 if a pixel lies in Madre de Dios area\n",
    "            1 if a pixel lies in the buffer area\n",
    "            -1 for masked pixel\n",
    "            \n",
    "The first three files are produced form the files:\n",
    "    datamask\n",
    "    gain\n",
    "    treecover2000\n",
    "    \n",
    "    Downladed from:\n",
    "    https://earthenginepartners.appspot.com/science-2013-global-forest/download_v1.6.html\n",
    "\n",
    "For how if_in_buffer.tif was created see R notebook.    "
   ]
  },
  {
   "cell_type": "markdown",
   "metadata": {},
   "source": [
    "  **lossyear_2018.tif**\n",
    "    \n",
    "    Downladed from:\n",
    "    https://earthenginepartners.appspot.com/science-2013-global-forest/download_v1.6.html\n",
    "    contains the most recent lossyear file.\n",
    "    \n",
    "    layer with values 0,1,2,3,..18 or -1\n",
    "        0 for no loss experienced between 2001 and 2018\n",
    "        1,2,3..18 for loss experienced in 2001, 2002, 2003,..2018\n",
    "        -1 for masked pixel\n",
    "    \n",
    "    \n",
    "    last_2018_1.tif\n",
    "    last_2018_2.tif\n",
    "    last_2018_3.tif\n",
    "    last_2018_4.tif\n",
    "    \n",
    "    The \"last\" file 4 bands corresponding to year 2018\n",
    "    each has values between 0:255 or -1\n",
    "        masked pixels have value -1"
   ]
  },
  {
   "cell_type": "markdown",
   "metadata": {},
   "source": [
    "# Input layers:"
   ]
  },
  {
   "cell_type": "markdown",
   "metadata": {},
   "source": [
    "<img src=\"images/table.png\">"
   ]
  },
  {
   "cell_type": "markdown",
   "metadata": {},
   "source": [
    "The only feature we constructed from Hansen data is one hot encoded cathegorical variable **if loss when** that for each neighbouring pixel encodes if it has experienced deforestation and how far in the past this was obsered. If pixel did not experienced deforestation, all cathegorical layers have 0 at that location. Our motivation to have it is because we had the hypothesis that deforestation event cluster in certain areas. Therefore, we wanted to have feature that summarize the information of neighbouring pixels' deforestation state. \n",
    "\n",
    "One can set different enocding through function:\n",
    "\n",
    "    def if_def_when(lossyear,year,cutoffs = [2,5,8]):\n",
    "        \"\"\"\n",
    "        Creates categorical variables for deforestration event given cutoffs.\n",
    "        Values in cutoffs define the time bins\n",
    "        Returns len(cutoffs) + 1 cathegorical layers:\n",
    "        Example: cutoffs = [2,5,8], num of layers = 4 , considered year = year\n",
    "        Cathegories 0,1,2,3 take values 1: \n",
    "        for layer 0 : if year - lossyear is in [0,2) \n",
    "        for layer 1 : if year - lossyear is in [2,5) \n",
    "        for layer 2 : if year - lossyear is in [5,8) \n",
    "        for layer 3 : if deforestation 8 years ago or more\n",
    "        For a given considered year we have no prior knowledge for future deforestations:\n",
    "            if loss event is in year > considered year or pixel is non deforested up to 2018+, \n",
    "            all categories have value 0 \n",
    "        \"\"\"\n",
    "\n",
    "<br>Currently the cut offs are as follows:\n",
    "        <br> For considered year t and loss taking values 1,2,3,4,...18:\n",
    "        <br> if loss > t all cathegorical levels take 0. Otherwise: \n",
    "        <br>Layer 1) deforestation in the same or last year  = 1 if t - loss in [0,1] \n",
    "        <br>Layer 2) deforestation in the past 2 to 4  years = 1 if t - loss in [2,4] \n",
    "        <br>Layer 3) deforestation in the past 5 to 7  years = 1 if t - loss in [5,7] \n",
    "        <br>Layer 4) deforestation more than 7 years         = 1 if t - loss in [8,t-1] "
   ]
  },
  {
   "cell_type": "markdown",
   "metadata": {},
   "source": [
    "All our models were build so that they can take two or more tensors with the same spatial dimensions, which we define below, and forecast if deforestation is observed in the following year at the locating corresponding to the spatially-central pixel of these tensors.\n",
    "\n",
    "The first 3D tensor that any of our models receives, which we named **static**, is tensor of shape $\\mathbf{S} \\in \\mathbb{R}^{2 \\times (2r+1) \\times (2r+1)}$ where $(2r+1 \\times 2r+1)$ is its spatial dimension and $r$ is a predefined hyperparameter that defines the number of pixels the input tensor to have in each spatial direction from the target central pixel. In the data classes implementation the parameter **size** correspond to **r**. The two chnnels of this tensor are treecover2000 and datamask. \n",
    "\n",
    "Our second set of tensors is a time series of 3D tensors $\\mathbf{X}_{t-3}$,$\\mathbf{X}_{t-2}$,$\\mathbf{X}_{t}$ $\\in \\mathbf{R}^{d \\times (2r+1) \\times (2r+1)}$, where again each tensor has spatial dimensions $(2r+1) \\times (2r+1)$ but depth **d = 4 + the number of layers of the if_loss_when** encoded variable. The channels of a tensor with time index $t$ are **if_loss_when(i,t), last_b30(t), last_b40(t), last_b50(t) and last_b70(t)** \n",
    "\n",
    "This time series is stored in 4D tensor of shape (c x t x 2r+1 x 2r+1) and here c = 4+4  and t = 3"
   ]
  },
  {
   "cell_type": "markdown",
   "metadata": {},
   "source": [
    "Finally each tensor with time index $t$ comes with a label $Y_{t+1} \\in \\{0,1\\}$ which takes value 1 only if the target central pixel (at spatial location $r+1 \\times r+1$) is marked as deforested exactly in year $t+1$. To clarify this, here we note that if this pixel was labeled as deforested in any other year $t_j \\neq t+1$ ,lossyear($t_j$) = 1, or was never labeled as deforested in the study period 2001-2018 , lossyear($t_j$) = 0 $\\forall$ $t_j$ in ${1,2,..18}$, then $Y_{t+1} = 0$"
   ]
  },
  {
   "cell_type": "markdown",
   "metadata": {},
   "source": [
    "## Set of valid pixels in each year"
   ]
  },
  {
   "cell_type": "markdown",
   "metadata": {},
   "source": [
    "Due to the characteristics of Hansen dataset, we know that if a pixel is labeled as deforested in year $t_{j}$ then the pixel never returns to the state of being forested. Additionally, if its the percentage of tree cover observed in 2000 was below 30\\%, than this location is not considered as forest. Only if a pixel with treecover2000<30% experience \"gain\" in the study period 2001-2012 we may assume it corresponds to a forested area from 2013 onward. Finally, if it has $datamask=1$ then we know it is a permanent water body. Having stated this facts, we note that if our models aim to forecast the label of a pixel with index $j$ , $Y^{j}_{t+1}  \\equiv \\mathbb{I}\\{lossyear_j = t+1\\}$, they would not be of any use if we know that this pixel j is not a forested area in year t. It will never be reverted to forest and therefore detecting deforestation at this location in year $t+1$ doesn't make sense. Therefore, when predicting the labels of pixels $Y{^j}_{t+1}$ in year $t+1$, we restricted these set of pixels to be:"
   ]
  },
  {
   "cell_type": "markdown",
   "metadata": {},
   "source": [
    "$$\\mathbf{J}_t =: \\{j \\in \\mathbb{M} : ( lossyear_j > t \\,\\ \\cup \\,\\ lossyear_j = 0 )$$ \n",
    "$$\\cap (datamask_j = 1) \\cap (treecover_j > 30\\% \\,\\ \\cup \\,\\ gain_j = 1) \\}$$\n",
    "where $\\mathbb{M}$ is the index set of pixels lyng within Madre de Dios baundries. "
   ]
  },
  {
   "cell_type": "markdown",
   "metadata": {},
   "source": [
    "Since channel **treecover2000** has range 0:100 we rescaled it to be in the range 0:1.\n",
    "<br>Each of the bands of Landset image composite is also separately normalized, where normalization is taken with respect to the spatial domain at a single time image. Reason for that is that different channels have different means and std. Mean and std are also computed per year because images might be taken at different seasons and therefore the channels values distribution might be different.\n",
    "<br>Since for Madre de Dios datamask has no entrie = 0, we changed the valus as 0 - land, 1 - water bodies.\n",
    "\n",
    "<br>For our last 3 models that utilize a time series of tensors we worked with the following dataset: $[\\mathbf{S^j},\\textbf{X}^j_{2014},\\textbf{X}^j_{2015},\\textbf{X}^j\n",
    "_{2016}]$ as set of input tensors and $Y^j_{2017}$ as the set of labels to be predicted where $j \\in \\mathbf{J}_{2016}$. \n",
    "\n",
    "<br>We split the data into train and validation data sets with ratio 8:2. From the 80% trainig data, a 5 fold cross validation training with early stopping was used. We used the validation data to select the best model of each class. We evaluated their performance on $[\\mathbf{S^j},\\textbf{X}^j_{2015},\\textbf{X}^j_{2016},\\textbf{X}^j_{2017}]$ as the set of input tensors and $Y^j_{2018}$ as the set of labels to be predicted where $j \\in \\mathbf{J}_{2017}$.\n",
    "\n",
    "<br>Our Model 1, 2D CNN model, is able to analyze only mono-temporal tensors and from them to extract features forecasting the central pixel deforestation label in the following year. We used the union of the following data pairs of tensors and labels as dataset:\n",
    "<br>$[\\mathbf{S^j},\\textbf{X}^j_{2014}]$ as an input tensors and $Y^j_{2015}$ as the set of labels to be predicted where $j \\in \\mathbf{J}_{2014}$.\n",
    "<br>$[\\mathbf{S^j},\\textbf{X}^j_{2015}]$ as an input tensors and $Y^j_{2016}$ as the set of labels to be predicted where $j \\in \\mathbf{J}_{2015}$.\n",
    "<br>$[\\mathbf{S^j},\\textbf{X}^j_{2016}]$ as an input tensors and $Y^j_{2017}$ as the set of labels to be predicted where $j \\in \\mathbf{J}_{2016}$.\n",
    "<br>We evaluated its performance on :\n",
    "<br>$[\\mathbf{S^j},\\textbf{X}^j_{2017}]$ as an input tensors and $Y^j_{2018}$ as the set of labels to be predicted where $j \\in \\mathbf{J}_{2017}$. \n",
    "\n",
    "<br> **WHERE IS THIS SAVED? PIXEL FILE?**\n"
   ]
  },
  {
   "cell_type": "markdown",
   "metadata": {},
   "source": [
    "## The rest of this notebook explains how to use the tiff files to produce the above defined datasets."
   ]
  },
  {
   "cell_type": "markdown",
   "metadata": {},
   "source": [
    "Load needed packages.\n",
    "\n",
    "sourcepath is the path to folder that has all tiff files.\n",
    "\n",
    "wherepath is the path to folder where the tensors to be saved and loaded later"
   ]
  },
  {
   "cell_type": "code",
   "execution_count": 1,
   "metadata": {},
   "outputs": [
    {
     "name": "stdout",
     "output_type": "stream",
     "text": [
      "/rds/general/project/aandedemand/live/satellite/junin/data_reduced /rds/general/project/aandedemand/live/satellite/junin/data_reduced/tensors\n"
     ]
    }
   ],
   "source": [
    "import torch\n",
    "from torchvision.transforms import ToTensor\n",
    "from PIL import Image\n",
    "Image.MAX_IMAGE_PIXELS = None\n",
    "from torch.utils.data import Dataset\n",
    "import os.path\n",
    "import numpy as np\n",
    "#sourcepath is path to folder that has all tiff files.\n",
    "# they must have value 111 for NA, and last tif file should come as last_year_1 for band 1 in year = year \n",
    "#wherepath is the path to folder where the tensors to be saved and laded later\n",
    "\n",
    "# server = '/home/ubuntu/satellite' # for Amazon server\n",
    "server = '/rds/general/project/aandedemand/live/satellite/junin'  # For Imperial HPC\n",
    "\n",
    "sourcepath = '/data_reduced'\n",
    "wherepath = '/data_reduced/tensors'\n",
    "\n",
    "sourcepath = server + sourcepath\n",
    "wherepath = server + wherepath\n",
    "print(sourcepath, wherepath)"
   ]
  },
  {
   "cell_type": "code",
   "execution_count": 2,
   "metadata": {},
   "outputs": [
    {
     "name": "stdout",
     "output_type": "stream",
     "text": [
      "done\n"
     ]
    }
   ],
   "source": [
    "#for visualising and time measurung\n",
    "import matplotlib\n",
    "import matplotlib.pyplot as plt\n",
    "import time\n",
    "print('done')"
   ]
  },
  {
   "cell_type": "markdown",
   "metadata": {},
   "source": [
    "## **to_Tensor**\n",
    "The following function open a raster (with one layer) as a tensor of size same as the tiff file - (14646, 15723)\n",
    "<br>**path** is the sourcepath: '/home/ubuntu/Madre'\n",
    "<br>**name** is one from above,  eg:  datamask_2018.tif,  gain_2018.tif,  treecover2000_2018.tif, if_in_buffer.tif"
   ]
  },
  {
   "cell_type": "code",
   "execution_count": 3,
   "metadata": {},
   "outputs": [],
   "source": [
    "def to_Tensor(path,name):\n",
    "    \"\"\"\n",
    "    Load Tiff files as tensors\n",
    "    \"\"\"\n",
    "    t = Image.open(path+\"/\"+name)\n",
    "    t = ToTensor()(t)\n",
    "    t = t.squeeze(dim = 0)\n",
    "    return(t)  "
   ]
  },
  {
   "cell_type": "markdown",
   "metadata": {},
   "source": [
    "## datamask"
   ]
  },
  {
   "cell_type": "code",
   "execution_count": 4,
   "metadata": {},
   "outputs": [
    {
     "data": {
      "text/plain": [
       "<Figure size 1008x1008 with 0 Axes>"
      ]
     },
     "metadata": {},
     "output_type": "display_data"
    },
    {
     "data": {
      "image/png": "[encoded data removed]",
      "text/plain": [
       "<Figure size 369.963x288 with 1 Axes>"
      ]
     },
     "metadata": {
      "needs_background": "light"
     },
     "output_type": "display_data"
    },
    {
     "name": "stdout",
     "output_type": "stream",
     "text": [
      "Number of pixels in AOI and buffer with no data (0 entries):  0\n"
     ]
    }
   ],
   "source": [
    "\"\"\"\n",
    "datamask:\n",
    "    -1 for NA value\n",
    "    0 for no data pixel in Madre de Dios\n",
    "    1 for land pixel in Madre de Dios\n",
    "    2 for water body pixel in Madre de Dios \n",
    "\"\"\"\n",
    "#Run this:\n",
    "###############\n",
    "datamask = to_Tensor(sourcepath,'Hansen/datamask_2018.tif')\n",
    "##############\n",
    "\n",
    "#visualise:\n",
    "colors = ['grey','white','green','blue']\n",
    "plt.fig = plt.figure(figsize=(14,14))\n",
    "plt.matshow(datamask,cmap=matplotlib.colors.ListedColormap(colors))\n",
    "plt.show()\n",
    "print(\"Number of pixels in AOI and buffer with no data (0 entries): \", len((datamask == 0).nonzero()))"
   ]
  },
  {
   "cell_type": "markdown",
   "metadata": {},
   "source": [
    "Since for AOI area all pixels have value $\\neq 0$, to rescale this layer to be in range 0,1 we change encoding as follows:\n",
    "     \n",
    "     datamask:\n",
    "    -1 for NA value\n",
    "    0 for land pixel in AOI\n",
    "    1 for water body pixel in AOI \n",
    "\n",
    "by running this line:\n",
    "\n",
    "    datamask[datamask !=  -1] = datamask[datamask !=  -1] - 1 "
   ]
  },
  {
   "cell_type": "code",
   "execution_count": 5,
   "metadata": {},
   "outputs": [],
   "source": [
    "datamask[datamask !=  -1] = datamask[datamask !=  -1] - 1 "
   ]
  },
  {
   "cell_type": "markdown",
   "metadata": {},
   "source": [
    "## if_in_buffer"
   ]
  },
  {
   "cell_type": "code",
   "execution_count": 6,
   "metadata": {},
   "outputs": [
    {
     "data": {
      "text/plain": [
       "<Figure size 576x576 with 0 Axes>"
      ]
     },
     "metadata": {},
     "output_type": "display_data"
    },
    {
     "data": {
      "image/png": "[encoded data removed]",
      "text/plain": [
       "<Figure size 369.963x288 with 1 Axes>"
      ]
     },
     "metadata": {
      "needs_background": "light"
     },
     "output_type": "display_data"
    }
   ],
   "source": [
    "\"\"\"\n",
    "Buffer:\n",
    "    -1 for NA value\n",
    "    0 for pixel in Madre de Dios\n",
    "    1 for pixel in buffer\n",
    "\"\"\"\n",
    "buffer = to_Tensor(sourcepath,'buffer/if_in_buffer.tif')\n",
    "#to visualise\n",
    "colors = ['grey','green','red']\n",
    "plt.fig = plt.figure(figsize=(8,8))\n",
    "plt.matshow(buffer,cmap=matplotlib.colors.ListedColormap(colors))\n",
    "plt.show()"
   ]
  },
  {
   "cell_type": "markdown",
   "metadata": {},
   "source": [
    "## DSM - new layer"
   ]
  },
  {
   "cell_type": "markdown",
   "metadata": {},
   "source": [
    "Since no mask is applied, to mask the NA values with -1 do:"
   ]
  },
  {
   "cell_type": "code",
   "execution_count": 7,
   "metadata": {},
   "outputs": [
    {
     "data": {
      "text/plain": [
       "<Figure size 576x576 with 0 Axes>"
      ]
     },
     "metadata": {},
     "output_type": "display_data"
    },
    {
     "data": {
      "image/png": "[encoded data removed]",
      "text/plain": [
       "<Figure size 369.963x288 with 1 Axes>"
      ]
     },
     "metadata": {
      "needs_background": "light"
     },
     "output_type": "display_data"
    }
   ],
   "source": [
    "DSM = to_Tensor(sourcepath,'DSM/DSM_resample_clip_REDUCED.tif')\n",
    "#DSM[datamask == -1 ] = -1\n",
    "plt.fig = plt.figure(figsize=(8,8))\n",
    "plt.matshow(DSM, norm = plt.Normalize(0, 6000))\n",
    "plt.show()"
   ]
  },
  {
   "cell_type": "markdown",
   "metadata": {},
   "source": [
    "Explore its values ditribution:"
   ]
  },
  {
   "cell_type": "code",
   "execution_count": 8,
   "metadata": {},
   "outputs": [
    {
     "name": "stdout",
     "output_type": "stream",
     "text": [
      "tensor([[   0, 2651],\n",
      "        [   0, 2652],\n",
      "        [   0, 2653],\n",
      "        ...,\n",
      "        [7652, 8517],\n",
      "        [7652, 8518],\n",
      "        [7652, 8519]])\n",
      "tensor([1371.2875, 1380.6450, 1386.6625,  ..., 3292.9475, 3301.5874,\n",
      "        3313.1201])\n"
     ]
    }
   ],
   "source": [
    "values = (DSM != -1).nonzero()\n",
    "print(values)\n",
    "values = DSM[ values[:,0] , values[:,1]].view(-1)\n",
    "print(values)"
   ]
  },
  {
   "cell_type": "code",
   "execution_count": 9,
   "metadata": {},
   "outputs": [
    {
     "data": {
      "image/png": "[encoded data removed]",
      "text/plain": [
       "<Figure size 432x288 with 1 Axes>"
      ]
     },
     "metadata": {
      "needs_background": "light"
     },
     "output_type": "display_data"
    }
   ],
   "source": [
    "plt.fig = plt.figure()\n",
    "plt.hist(values.numpy())\n",
    "plt.show()"
   ]
  },
  {
   "cell_type": "code",
   "execution_count": 10,
   "metadata": {},
   "outputs": [
    {
     "data": {
      "text/plain": [
       "tensor(16.5450)"
      ]
     },
     "execution_count": 10,
     "metadata": {},
     "output_type": "execute_result"
    }
   ],
   "source": [
    "(values).min() "
   ]
  },
  {
   "cell_type": "markdown",
   "metadata": {},
   "source": [
    "Since values have positively skewed distribution take log transform. Since minimum value is 107, log transform without shift is possible."
   ]
  },
  {
   "cell_type": "code",
   "execution_count": 11,
   "metadata": {},
   "outputs": [],
   "source": [
    "DSM[DSM != -1] = np.log(DSM[DSM != -1])"
   ]
  },
  {
   "cell_type": "markdown",
   "metadata": {},
   "source": [
    "After log transform:"
   ]
  },
  {
   "cell_type": "code",
   "execution_count": 12,
   "metadata": {},
   "outputs": [
    {
     "data": {
      "image/png": "[encoded data removed]",
      "text/plain": [
       "<Figure size 432x288 with 1 Axes>"
      ]
     },
     "metadata": {
      "needs_background": "light"
     },
     "output_type": "display_data"
    }
   ],
   "source": [
    "values = (DSM != -1).nonzero()\n",
    "values = DSM[ values[:,0] , values[:,1]].view(-1)\n",
    "plt.fig = plt.figure()\n",
    "plt.hist(values.numpy())\n",
    "plt.show()"
   ]
  },
  {
   "cell_type": "markdown",
   "metadata": {},
   "source": [
    "To transform in order to have normal distribution:\n",
    "<br> rescale_image function defined bellow"
   ]
  },
  {
   "cell_type": "code",
   "execution_count": 13,
   "metadata": {},
   "outputs": [
    {
     "name": "stdout",
     "output_type": "stream",
     "text": [
      "/rdsgpfs/general/project/aandedemand/live/satellite/junin/deforestation_forecasting/python_code\n"
     ]
    }
   ],
   "source": [
    "%cd ../\n",
    "from Data_maker_loader import rescale_image\n",
    "DSM  ,mean, std = rescale_image(DSM)\n",
    "del rescale_image"
   ]
  },
  {
   "cell_type": "code",
   "execution_count": 14,
   "metadata": {},
   "outputs": [
    {
     "name": "stdout",
     "output_type": "stream",
     "text": [
      "Mean after log transform:  tensor([7.2419])\n",
      "Std after log transform:  tensor([0.7253])\n"
     ]
    }
   ],
   "source": [
    "print(\"Mean after log transform: \", mean)\n",
    "print(\"Std after log transform: \", std)"
   ]
  },
  {
   "cell_type": "code",
   "execution_count": 15,
   "metadata": {},
   "outputs": [
    {
     "data": {
      "image/png": "[encoded data removed]",
      "text/plain": [
       "<Figure size 432x288 with 1 Axes>"
      ]
     },
     "metadata": {
      "needs_background": "light"
     },
     "output_type": "display_data"
    }
   ],
   "source": [
    "values = (DSM[:,:] != -1).nonzero()\n",
    "values = DSM[ values[:,0] , values[:,1]].view(-1)\n",
    "plt.fig = plt.figure()\n",
    "plt.hist(values.numpy())\n",
    "plt.show()"
   ]
  },
  {
   "cell_type": "code",
   "execution_count": 16,
   "metadata": {},
   "outputs": [],
   "source": [
    "torch.save(DSM,wherepath+\"/\"+'DSM.pt')"
   ]
  },
  {
   "cell_type": "markdown",
   "metadata": {},
   "source": [
    "### In summary, to include this layer do:"
   ]
  },
  {
   "cell_type": "code",
   "execution_count": null,
   "metadata": {},
   "outputs": [],
   "source": [
    "DSM = to_Tensor(sourcepath,'DSM.tif')\n",
    "# Mask area out of Madre de Dios and buffer\n",
    "DSM[datamask == -1 ] = -1\n",
    "# If positive skewed distribution of the values:\n",
    "min_val  = DSM[DSM != -1 ].min().numpy()\n",
    "print(\"Min value of the elevation: \",min_val)\n",
    "# if there is negative values and zero values log transform must be applied after a shift to positive values only.\n",
    "# log(0) = -Inf\n",
    "if min_val > 0:\n",
    "    DSM[DSM != -1] = np.log(DSM[DSM != -1])\n",
    "else:\n",
    "    DSM[DSM != -1] = np.log(DSM[DSM != -1] + min_val + 1)\n",
    "#Normalise:\n",
    "DSM, DSMmean, DSMstd = rescale_image(DSM)\n",
    "print(\"Extracted mean: \",DSMmean)\n",
    "print(\"Devided std: \",DSMstd)"
   ]
  },
  {
   "cell_type": "markdown",
   "metadata": {},
   "source": [
    "## **last_to_image**\n",
    "\n",
    "The following function open the 4 rasters (one for each band) of the last files (eg last_18_1,..last_18_4) and returns them as a tensors of size (4, 14646, 15723)\n",
    "\n",
    "<br>**path** is the sourcepath\n",
    "<br>**year** any of 13,14,15,16,17,18 "
   ]
  },
  {
   "cell_type": "code",
   "execution_count": 17,
   "metadata": {},
   "outputs": [],
   "source": [
    "def last_to_image(path,year):\n",
    "    \"\"\"\n",
    "    Given path to folder having tiff files for each last band for given year\n",
    "    returns Tensors with chanels == bands and year as requested in the path\n",
    "    \"\"\"\n",
    "    image = [] \n",
    "    for b in range(1,5):\n",
    "        band = Image.open(path+\"/\"+'Hansen/last_20%d_%d.tif'%(year,b))\n",
    "        band = ToTensor()(band)\n",
    "        image.append(band)\n",
    "    image = torch.cat(image,dim = 0)\n",
    "    image = image.float()\n",
    "    return(image)"
   ]
  },
  {
   "cell_type": "code",
   "execution_count": 22,
   "metadata": {},
   "outputs": [
    {
     "name": "stdout",
     "output_type": "stream",
     "text": [
      "torch.Size([4, 17964, 16852])\n",
      "Time needed to load one last file as tensor (in seconds):  41.979917764663696\n"
     ]
    }
   ],
   "source": [
    "start = time.time()\n",
    "#Run this:###########\n",
    "last_16 = last_to_image(sourcepath,16)\n",
    "####################\n",
    "print(last_16.shape)\n",
    "print(\"Time needed to load one last file as tensor (in seconds): \",time.time() - start)"
   ]
  },
  {
   "cell_type": "markdown",
   "metadata": {},
   "source": [
    "## Rescale Image\n",
    "<br> **rescale_image**\n",
    "\n",
    "Get satelite image of Madre de Dios area at a given year, compute the mean and std of all\n",
    "non-masked pixels (those covering Madre de Dios area) and returns a normalized satellite image.\n",
    "Normalization is done per channel. Reason for that is that different channels have different means and \n",
    "std. Mean and std are also conputed per year because images might be taken at different seasons and therefore the channels values distribution might be different."
   ]
  },
  {
   "cell_type": "markdown",
   "metadata": {},
   "source": [
    "### Here we illustrate the 4 channels values distributions  of year 2016 satellite image "
   ]
  },
  {
   "cell_type": "code",
   "execution_count": 24,
   "metadata": {},
   "outputs": [],
   "source": [
    "pixels = (last_16[1,:,:] != -1).nonzero()\n",
    "values1 = last_16[0, pixels[:,0] , pixels[:,1]].view(-1)\n",
    "values2 = last_16[1, pixels[:,0] , pixels[:,1]].view(-1)\n",
    "values3 = last_16[2, pixels[:,0] , pixels[:,1]].view(-1)\n",
    "values4 = last_16[3, pixels[:,0] , pixels[:,1]].view(-1)"
   ]
  },
  {
   "cell_type": "code",
   "execution_count": 25,
   "metadata": {},
   "outputs": [
    {
     "data": {
      "image/png": "[encoded data removed]",
      "text/plain": [
       "<Figure size 432x288 with 4 Axes>"
      ]
     },
     "metadata": {
      "needs_background": "light"
     },
     "output_type": "display_data"
    }
   ],
   "source": [
    "plt.fig = plt.figure()\n",
    "plt.subplot(2, 2, 1)\n",
    "plt.hist(values1.numpy())\n",
    "plt.title(\"band 1\")\n",
    "plt.subplot(2, 2, 2)\n",
    "plt.hist(values2.numpy())\n",
    "plt.title(\"band 2\")\n",
    "plt.subplot(2, 2, 3)\n",
    "plt.hist(values3.numpy())\n",
    "plt.title(\"band 3\")\n",
    "plt.subplot(2, 2, 4)\n",
    "plt.hist(values4.numpy())\n",
    "plt.title(\"band 4\")\n",
    "plt.show()"
   ]
  },
  {
   "cell_type": "code",
   "execution_count": 18,
   "metadata": {},
   "outputs": [],
   "source": [
    "def rescale_image(image):\n",
    "    # detach and clone the image so that you don't modify the input, but are returning new tensor.\n",
    "    rescaled_image = image.data.clone()\n",
    "    if(len(image.shape) == 2):\n",
    "        rescaled_image = rescaled_image.unsqueeze(dim = 0)\n",
    "    # Compute mean and std only from non masked pixels\n",
    "    # Spatial coordinates of this pixels are:\n",
    "    pixels = (rescaled_image[0,:,:] != -1).nonzero()\n",
    "    mean = rescaled_image[:, pixels[:,0] , pixels[:,1]].mean(1,keepdim=True)\n",
    "    std = rescaled_image[:, pixels[:,0] , pixels[:,1]].std(1,keepdim=True)\n",
    "    rescaled_image[:, pixels[:,0] , pixels[:,1]] -= mean\n",
    "    rescaled_image[:, pixels[:,0] , pixels[:,1]] /= std\n",
    "    if(len(image.shape) == 2):\n",
    "        rescaled_image = rescaled_image.squeeze(dim = 0)\n",
    "        mean = mean.squeeze(dim = 0)\n",
    "        std = std.squeeze(dim = 0)\n",
    "    return(rescaled_image,mean,std)"
   ]
  },
  {
   "cell_type": "code",
   "execution_count": 27,
   "metadata": {},
   "outputs": [
    {
     "name": "stdout",
     "output_type": "stream",
     "text": [
      "Time to rescale one year image: 18.758196115493774\n",
      "\n",
      "Mean of channles : \n",
      " tensor([[18.5237],\n",
      "        [72.7132],\n",
      "        [63.6026],\n",
      "        [31.1686]])\n",
      "\n",
      "Std of channles : \n",
      " tensor([[13.4344],\n",
      "        [19.2726],\n",
      "        [19.4598],\n",
      "        [16.9414]])\n",
      "\n",
      "Original image preserved:  tensor([-1., -1., -1., -1.])\n",
      "Rescaled values at this location:  tensor([-1., -1., -1., -1.])\n"
     ]
    }
   ],
   "source": [
    "st = time.time()\n",
    "rescaled_image, mean, std = rescale_image(last_16)\n",
    "print(\"Time to rescale one year image:\",time.time() - st)\n",
    "print(\"\\nMean of channles : \\n\",mean)\n",
    "print(\"\\nStd of channles : \\n\",std)\n",
    "print(\"\\nOriginal image preserved: \",last_16[:,555,7777])\n",
    "print(\"Rescaled values at this location: \",rescaled_image[:,555,7777])"
   ]
  },
  {
   "cell_type": "markdown",
   "metadata": {},
   "source": [
    "#### Rescale_image can also be applied to any tensor of 2 dimensions. \n",
    "In this case rescaling is done with respect to the whole area in Made de Dios (that does not have -1 values) Note: if a new tensor has negative values by characteristics, one musth change the encoding."
   ]
  },
  {
   "cell_type": "markdown",
   "metadata": {},
   "source": [
    "## Create Categorical Layers Indicationg Deforestation Times Periods **if_def_when**\n",
    "\n",
    "    Takes as input:\n",
    "        \n",
    "        the lossyear tensor; \n",
    "        the year to be considered as current t; t is one of 1,2,3,..18\n",
    "        the cutoffs - list of cut of values (of lenght n) that determine the one hot encoding\n",
    "        \n",
    "    Returns:\n",
    "        \n",
    "        \"One hot\" encded 3D tensor with shpe ([n+1, 14646, 15723]) for loss event.\n",
    "    \n",
    "    Example: \n",
    "        \n",
    "        Takes: 2D lossyear tensor, year = 14, cutoffs = [2,5,8] (n=3).\n",
    "        Returns: 3D Cathegorical tensor with num of layers = 4 (n+1) \n",
    "    \n",
    "    Each Cathegorical layer gets value 1 if: \n",
    "    \n",
    "    for layer 0: if year - lossyear is in [0,2) i.e: 14-14, 14-13 (lossyear = 14 , 13)\n",
    "    for layer 1: if year - lossyear is in [2,5) i.e: 14-12, 14-11, 14-10 (lossyear = 12 , 11, 10)\n",
    "    for layer 2: if year - lossyear is in [5,8) i.e: 14-9, 14-8, 14-7 (lossyear = 9 , 8, 7)\n",
    "    for layer 3: 8 years ago or more i.e: 14-6, 14-5,...14-1 (lossyear = 6, 5, 4, 3, 2, 1)\n",
    "\n",
    "If lossyear value of a pixel is 0 or greater than t ( lossyear > 14 ), all cathegorical layers have value 0, which indicates that at year t=14, we know this pixel is not deforested yet. We consider all future deforestations event for year t = 14 as not observed yet ,\"unknown\". If pixel is masked, all cathegorical values take the NA value -1"
   ]
  },
  {
   "cell_type": "code",
   "execution_count": 19,
   "metadata": {},
   "outputs": [],
   "source": [
    "def if_def_when(lossyear,year,cutoffs = [2,5,8]):\n",
    "    \"\"\"\n",
    "    Creates categorical variables for deforestration event given cutoffs.\n",
    "    Values in cutoffs define the time bins\n",
    "    Returns len(cutoffs) + 1 cathegorical layers:\n",
    "    Example: cutoffs = [2,5,8], num of layers = 4 , considered year = year\n",
    "    Cathegories: \n",
    "    0) if year - lossyear is in [0,2) \n",
    "    1) if year - lossyear is in [2,5) \n",
    "    2) if year - lossyear is in [5,8) \n",
    "    3) 8 years ago or more\n",
    "    No prior knowledge:\n",
    "        if loss event is in year > considered year or pixel is non deforested up to 2018+, all cathegories have value 0 \n",
    "    \"\"\"\n",
    "    cutoffs.append(year)\n",
    "    cutoffs.insert(0,0)\n",
    "    lossyear[ (lossyear > year) ] = 0\n",
    "    losses = []\n",
    "    for idx in range(0,len(cutoffs) - 1 ):   \n",
    "        deff = torch.zeros(lossyear.size())\n",
    "        deff[ (cutoffs[idx] <= (year - lossyear)) & ( (year - lossyear) < cutoffs[idx+1]) ] = 1\n",
    "        losses.append(deff.float())    \n",
    "    losses = torch.stack(losses)\n",
    "    #Return Nan values encoded as needed:\n",
    "    losses[:, (lossyear== -1)] = -1\n",
    "    return(losses)"
   ]
  },
  {
   "cell_type": "code",
   "execution_count": 30,
   "metadata": {},
   "outputs": [
    {
     "name": "stdout",
     "output_type": "stream",
     "text": [
      "loss year cases:\n",
      "tensor([[ 1,  2,  3,  4,  5],\n",
      "        [ 6,  7,  8,  9, 10],\n",
      "        [11, 12, 13, 14, 15],\n",
      "        [16, 17, 18, -1,  0]])\n",
      "\n",
      "Current year: t= 14\n",
      "\n",
      "No prior knowledge for future deforestration. Lossyear modified to: \n",
      "tensor([[ 1,  2,  3,  4,  5],\n",
      "        [ 6,  7,  8,  9, 10],\n",
      "        [11, 12, 13, 14,  0],\n",
      "        [ 0,  0,  0, -1,  0]])\n",
      "\n",
      "Corresponding categorical layers\n",
      "\n",
      "Time bin category 0\n",
      " tensor([[ 0.,  0.,  0.,  0.,  0.],\n",
      "        [ 0.,  0.,  0.,  0.,  0.],\n",
      "        [ 0.,  0.,  1.,  1.,  0.],\n",
      "        [ 0.,  0.,  0., -1.,  0.]])\n",
      "\n",
      "Time bin category 1\n",
      " tensor([[ 0.,  0.,  0.,  0.,  0.],\n",
      "        [ 0.,  0.,  0.,  0.,  1.],\n",
      "        [ 1.,  1.,  0.,  0.,  0.],\n",
      "        [ 0.,  0.,  0., -1.,  0.]])\n",
      "\n",
      "Time bin category 2\n",
      " tensor([[ 0.,  0.,  0.,  0.,  0.],\n",
      "        [ 0.,  1.,  1.,  1.,  0.],\n",
      "        [ 0.,  0.,  0.,  0.,  0.],\n",
      "        [ 0.,  0.,  0., -1.,  0.]])\n",
      "\n",
      "Time bin category 3\n",
      " tensor([[ 1.,  1.,  1.,  1.,  1.],\n",
      "        [ 1.,  0.,  0.,  0.,  0.],\n",
      "        [ 0.,  0.,  0.,  0.,  0.],\n",
      "        [ 0.,  0.,  0., -1.,  0.]])\n"
     ]
    }
   ],
   "source": [
    "lossyear = torch.tensor([[1,2,3,4,5],[6,7,8,9,10],[11,12,13,14,15],[16,17,18,-1,0]])\n",
    "print(\"loss year cases:\")\n",
    "print(lossyear)\n",
    "currentyear = 14\n",
    "print(\"\\nCurrent year: t=\", currentyear)\n",
    "when = if_def_when(lossyear, currentyear, cutoffs = [2,5,8])\n",
    "print(\"\\nNo prior knowledge for future deforestration. Lossyear modified to: \")\n",
    "print(lossyear)\n",
    "print(\"\\nCorresponding categorical layers\")\n",
    "for i in range(0, len(when)):\n",
    "    print(\"\\nTime bin category %d\\n\"%i,when[i])"
   ]
  },
  {
   "cell_type": "markdown",
   "metadata": {},
   "source": [
    "# Create Tensors of Features to be used from models and save them for later usage. *create_tnsors_pixels*"
   ]
  },
  {
   "cell_type": "markdown",
   "metadata": {},
   "source": [
    "Given year t, and cutoffs as defined above returns (and save them if wherepath!= None):\n",
    "<br>Static tensor $S$,\n",
    "<br>Non static tensor $X_t$,\n",
    "<br>list of valid pixels coordinates $\\mathbf{J}_{t}$\n",
    "<br>list of labels corresponding to this valid cordinates: $Y^j_{t}$ where $j \\in \\mathbf{J}_{t}$\n",
    "<br>Other two inputs are:\n",
    "<br>sourcepath = path to tiff files\n",
    "<br>wherepath = if not None, path to the folder where to save these tensors\n",
    "        \n",
    "<br>Static tensor is identical for any year, hence save only once. Static tensor has datamask layer and treecover\n",
    "<br>Nonstatic tensor has if_deff_when cathegorical layers and the four bands of the landsat image stacked\n",
    "    \n",
    "    Valid pixels are these that meet all the following conditions :\n",
    "     1. datamask == 1 , eg                        land not water body\n",
    "     2. tree_cover > tree_p   or   gain == 1      if threecanpy in 2000 > tree_p or became forest up to 2012 \n",
    "     3. lossyear > end_year   or   lossyear == 0  experienced loss only after that year (or not at all in the study period)    \n",
    "     4. buffer == 0                               is in AOI area\n",
    "     \n",
    "$$\\mathbf{J}_t =: \\{j \\in \\mathbb{M} : ( lossyear_j > t \\,\\ \\cup \\,\\ lossyear_j = 0 )$$ \n",
    "$$\\cap (datamask_j = 1) \\cap (treecover_j > 30\\% \\,\\ \\cup \\,\\ gain_j = 1) \\}$$\n",
    "Where $\\mathbb{M}$ is the index set of pixels lyng within the ROI boundries. For each valid pixel j assign label $Y^j_{t} = 1$ if it is deforested in exactly in year = t+1 or zero otherwise.\n",
    "<br>All pixels in the rasters and produced tensors have value -1 in the locations outside ROI area and its buffer"
   ]
  },
  {
   "cell_type": "code",
   "execution_count": 20,
   "metadata": {},
   "outputs": [],
   "source": [
    "def create_tnsors_pixels(end_year, tree_p = 30, cutoffs = [2,5,8] , sourcepath = sourcepath ,rescale = True, wherepath = None):\n",
    "    \"\"\"\n",
    "    Given year, and cutoffs as defined above returns (and save if wherepath!= None) \n",
    "        Static tensor,\n",
    "        Non static tensor,\n",
    "        list of valid pixels codrinates,\n",
    "        list of labels corresponding to this valid cordinates\n",
    "    \n",
    "    sourcepath = path to tiff files\n",
    "    wherepath = in not None, path to where to save the tensors\n",
    "        \n",
    "    Static tensor is identical for any year, hence save only once\n",
    "    Static tensor has datamask layer and treecover\n",
    "    \n",
    "    Nonstatic tensor has if_deff_when cathegorical layers and the image landset 7 bands stacked\n",
    "    \n",
    "    Valid pixels are these that meet all the following conditions :\n",
    "     1. datamask == 1 , eg                        land not water body\n",
    "     2. tree_cover > tree_p   or   gain == 1      if tree canopy in 2000 > tree_p or became forest up to 2012 \n",
    "     3. lossyear > end_year   or   lossyear == 0  experienced loss only after that year (or not at all in the study period)    \n",
    "     4. buffer == 0                               is in Madre de Dios area\n",
    "     \n",
    "    for each valid pixel assign label 1 if it is deforested in exactly in year+1 or zero otherwise  \n",
    "    \n",
    "    All pixels in the rasters and produced tensors have value 111 in the locations outside Area of Interest and its buffer\n",
    "    \"\"\"\n",
    "    buffer = to_Tensor(sourcepath,'buffer/if_in_buffer.tif')\n",
    "    gain = to_Tensor(sourcepath,'Hansen/gain_2018.tif')\n",
    "    lossyear = to_Tensor(sourcepath,'Hansen/lossyear_2018.tif')\n",
    "    datamask = to_Tensor(sourcepath,'Hansen/datamask_2018.tif')\n",
    "    tree_cover = to_Tensor(sourcepath,'Hansen/treecover2000_2018.tif')\n",
    "    tree_cover = tree_cover.float()\n",
    "    datamask = datamask.float()\n",
    "    #Create list of valid pixels coordinates\n",
    "    pixels = ( (datamask == 1) &                           #land (not water body)\n",
    "               ((tree_cover > tree_p ) | (gain == 1)) &    #if forest in 2000 or became forest up to 2012 \n",
    "               ((lossyear > end_year) | (lossyear == 0))&  #experienced loss only after that year (or not at all in the study period)    \n",
    "               (buffer == 0)).nonzero()                    #In area of interest\n",
    "    \n",
    "    \n",
    "    #Create list of valid pixels labels in year + 1\n",
    "    labels = lossyear[pixels[:,0],pixels[:,1]] == (end_year+1)  #can be change to >= (end_year+1) & <111     \n",
    "\n",
    "    when = if_def_when(lossyear,end_year, cutoffs = cutoffs)\n",
    "    image = last_to_image(sourcepath,end_year)\n",
    "    \n",
    "    if rescale:\n",
    "        #Rescale datamask to have values -1 for nan, 0 for land, 1 for water\n",
    "        datamask[datamask !=  -1] = datamask[datamask !=  -1] - 1\n",
    "        #Rescale tree_cover to have values in [0, 1] and -1 for nan\n",
    "        tree_cover[tree_cover !=  -1] = tree_cover[tree_cover !=  -1]*0.01\n",
    "        #Normalize image by channel with -1 values for nan\n",
    "        image, _, _ = rescale_image(image)\n",
    "        \n",
    "    #Create non Static tensor\n",
    "    image = torch.cat((when,image),dim=0)\n",
    "    #Creates static tensor\n",
    "    static = torch.stack((datamask,tree_cover))\n",
    "\n",
    "    \n",
    "    #Creates non static tensor\n",
    "    if wherepath:\n",
    "        if not os.path.isfile(wherepath+\"/\"+\"static.pt\"):\n",
    "            torch.save(static, wherepath+\"/\"+\"static.pt\")\n",
    "        torch.save(image, wherepath+\"/\"+\"tensor_%d.pt\"%(end_year))\n",
    "        torch.save(pixels,wherepath+\"/\"+\"pixels_cord_%d.pt\"%(end_year))\n",
    "        torch.save(labels,wherepath+\"/\"+\"labels_%d.pt\"%(end_year))\n",
    "\n",
    "    return static, image, pixels, labels \n",
    "    "
   ]
  },
  {
   "cell_type": "code",
   "execution_count": 32,
   "metadata": {},
   "outputs": [
    {
     "name": "stdout",
     "output_type": "stream",
     "text": [
      "Total time (in seconds) needed to create tenosrs:  147.33529424667358\n"
     ]
    }
   ],
   "source": [
    "start = time.time()\n",
    "static, image, pixels, labels = create_tnsors_pixels(18, tree_p = 30, cutoffs = [2,5,8] , sourcepath = sourcepath ,rescale = True, wherepath = None)\n",
    "print(\"Total time (in seconds) needed to create tensors: \",time.time() - start)"
   ]
  },
  {
   "cell_type": "code",
   "execution_count": 33,
   "metadata": {},
   "outputs": [],
   "source": [
    "torch.save(image, wherepath+\"/\"+\"tensor_%d.pt\"%(18))\n",
    "torch.save(pixels,wherepath+\"/\"+\"pixels_cord_%d.pt\"%(18))"
   ]
  },
  {
   "cell_type": "markdown",
   "metadata": {},
   "source": [
    "# Data Classes\n",
    "In pytorch one need to have data class to load the data. This data class must have \\__getitem\\__(self, idx) function that returns the imput of the model and the output to which the prediction of the model is compared. Here \\__getitem\\__ returns the model input image/time series of images, the label of the central pixel and its cordinates. Each class must also have function that returns the dataset lenght: \\__len\\__(self)  "
   ]
  },
  {
   "cell_type": "markdown",
   "metadata": {},
   "source": [
    "## CNN data class\n",
    "As mentioned above, the data set for our CNN model is trained on all pairs of images labels for years 2014, 2015, 2016, 2017. To make this union of data pairs, the class is given lists. \n",
    "\n",
    "For example, to create CNN data class that has data points from Images in 2015 and 2016 and their corresponding labels in 2016 and 2017 respectively, image must be the list $\\mathbf{X_{2015}}$, $\\mathbf{X_{2016}}$, pixels must be the list of valid pixels coordinates in the corresponding year $\\mathbf{J_{2015}}$, $\\mathbf{J_{2016}}$, and labels must be $\\mathbf{Y^{j_{2015}}_{2016}}$, $\\mathbf{Y^{j_{2016}}_{2017}}$. The static tensor $\\mathbf{S}$ is also gven to the data class.\n",
    "\n",
    "The data set lenght is then the lenght of the set $\\mathbf{J_{2015}} \\cup \\mathbf{J_{2016}}$ and when the function  \\_getitem\\_(self, idx) is given a index it returns the coresonding pixel static tensor $\\mathbf{S}$ , image and label. The function idx_to_image(self,idx) maps each index to the correct pair of image,label with respect to wich year pair we refer to by this index.\n",
    "\n",
    "The data class also have function change_size(self, new_size) that allows the spatial size of the tensor to be changed withouth re-initializing the class."
   ]
  },
  {
   "cell_type": "code",
   "execution_count": null,
   "metadata": {},
   "outputs": [],
   "source": [
    "class DatasetCNN(Dataset):\n",
    "    \"\"\"\n",
    "    CNN Data class\n",
    "        \n",
    "        if it is passed list of image, pixels and labels, it concate the data as one, where inputs are\n",
    "        all pairs of image:next year labels for valid pixels. Pairs are ordered as sequence in the same order as\n",
    "        in the flatten list\n",
    "        \n",
    "        if list is of lenght 1, only one year pairs\n",
    "        \n",
    "        size is the radius of the image. Can be modified with Data.change_size(new size)   \n",
    "    \"\"\"\n",
    "\n",
    "    def __init__(self, size, static, image, pixels, labels):       \n",
    "        self.size = size\n",
    "        self.lenghts = None\n",
    "            \n",
    "        if(len(image) == 1):\n",
    "            image = torch.cat(image, dim = 0)\n",
    "            self.image = torch.cat((static,image), dim = 0)\n",
    "        \n",
    "        else:\n",
    "            #add static to each image in the list so that all images are ready tensors\n",
    "            # do this only when initializig the data class so that it is quick to call ready tensor at each get item call\n",
    "            #save tensors in a list keeping the image order\n",
    "            \n",
    "            #save the lengths of each item in the pixles codrintes/labels list \n",
    "            #so that after they are flattened, a map pixel,year -> image,year is possible\n",
    "            self.lenghts = [ len(i) for i in pixels ]\n",
    "            self.image = []\n",
    "            for im in image:\n",
    "                img = torch.cat((static,im), dim = 0)\n",
    "                self.image.append(img)\n",
    "              \n",
    "        self.pixels = torch.cat(pixels, dim = 0)\n",
    "        self.labels = torch.cat(labels, dim = 0)  \n",
    "                \n",
    "    def idx_to_image(self,idx):\n",
    "        \"\"\"\n",
    "        given a index of a flatten list of pixels in different years,\n",
    "        return the corresponding image for the given year\n",
    "        \"\"\"\n",
    "        \n",
    "        if self.lenghts == None:\n",
    "            image = self.image\n",
    "        \n",
    "        else:\n",
    "            csum = list(np.cumsum(self.lenghts))\n",
    "            csum.insert(0,0)\n",
    "            for i in range(1,len(csum)):\n",
    "                if ((idx >= csum[i-1]) & (idx < csum[i])):              \n",
    "                    image = self.image[i-1] \n",
    "                    break;\n",
    "        return image\n",
    "    \n",
    "    def change_size(self, new_size):\n",
    "        self.size = new_size\n",
    "            \n",
    "    def __getitem__(self, idx): \n",
    "        \n",
    "        image = self.idx_to_image(idx)      \n",
    "        image = image[:,\n",
    "                        (self.pixels[idx,0] - self.size) : (self.pixels[idx,0] + self.size + 1),\n",
    "                        (self.pixels[idx,1] - self.size) : (self.pixels[idx,1] +self.size + 1)] \n",
    "        \n",
    "        label = self.labels[idx]\n",
    "                      \n",
    "        cor = self.pixels[idx]\n",
    "                      \n",
    "        return image , label, cor\n",
    "    \n",
    "    def __len__(self):\n",
    "        return len(self.pixels)\n",
    "    "
   ]
  },
  {
   "cell_type": "markdown",
   "metadata": {},
   "source": [
    "## load_CNNdata \n",
    "This function takes as input the size one wish the CNNdata object to have and the start and end year of the pairs considered. It then loads the lists needed to initialize the data class and returns the corresponding CNNdata object.\n",
    "\n",
    "If one wish to add extra static layers, than add_static must be a list of this tensors (2D or 3D for multi-channels)\n",
    "\n",
    "If one wish to add extra time layers, than add_time must be a list of lists of this tensors (2D or 3D for multi-channels) where the lists are sorted in time and are of lenght end_year - start_year + 1\n",
    "\n",
    "Eg:add_time = [[layer_1_2014, layer_2_2014],[layer_1_2015, layer_2_2015],[layer_1_2016, layer_2_2016]] where \n",
    "layer_1 and layer_2 can be 2D or 3D tensors."
   ]
  },
  {
   "cell_type": "code",
   "execution_count": null,
   "metadata": {},
   "outputs": [],
   "source": [
    "def load_CNNdata(size, start_year, end_year, add_static = None, add_time = None, path = wherepath):\n",
    "    \"\"\"\n",
    "    given start year, end year and size initilalize CNN data class \n",
    "    start year and end year define how many pairs imange - next year label the data to have \n",
    "    size define the returned image size\n",
    "    path = path to saved tensors\n",
    "    \"\"\"\n",
    "    \n",
    "    path = path + \"/\"\n",
    "    static = torch.load(path+\"static.pt\")\n",
    "    if(add_static):\n",
    "        for to_add in add_static:\n",
    "            if len(to_add.shape) == 2 :\n",
    "                to_add = to_add.unsqueeze(dim = 0)\n",
    "                static = torch.cat([static,to_add], dim = 0)\n",
    "            else:\n",
    "                static = torch.cat([static,to_add], dim = 0)      \n",
    "    \n",
    "    images_ls = []\n",
    "    pixels_ls = []\n",
    "    labels_ls = []\n",
    "    \n",
    "    for i, year in enumerate(range(start_year,end_year+1)):\n",
    "        \n",
    "        image = torch.load(path+\"tensor_%d.pt\"%(year))\n",
    "        if(add_time):\n",
    "            for to_add in add_time[i]:\n",
    "                if len(to_add.shape) == 2 :\n",
    "                    to_add = to_add.unsqueeze(dim = 0)\n",
    "                    image = torch.cat([image,to_add], dim = 0)\n",
    "                else:\n",
    "                    image = torch.cat([image,to_add], dim = 0) \n",
    "        \n",
    "        images_ls.append(image)\n",
    "        \n",
    "        pixels = torch.load(path+\"pixels_cord_%d.pt\"%(year))\n",
    "        pixels_ls.append(pixels)\n",
    "        \n",
    "        labels = torch.load(path+\"labels_%d.pt\"%(year))\n",
    "        labels_ls.append(labels)\n",
    "        \n",
    "    Data = DatasetCNN(size, static = static, image = images_ls, pixels = pixels_ls, labels = labels_ls)\n",
    "    \n",
    "    return Data"
   ]
  },
  {
   "cell_type": "markdown",
   "metadata": {},
   "source": [
    "# DatasetRNN"
   ]
  },
  {
   "cell_type": "markdown",
   "metadata": {},
   "source": [
    "This class is similar to the CNN class. To intialize it one needs to give it the size (= r) of the tensors, the static tensor, a 4D tensor coresponidng to the time series of images, organised as follows (channels,time,height,width), the set of valid pixels in the considered year and the coresponding next year labels for this set of pixels.\n",
    "\n",
    "For example, to costruct the data set $\\mathbf{S,X_{2014},X_{2015},X_{2016}}$ , $\\mathbf{Y^{j_{2016}}_{2017}}$ , **static** must be $\\mathbf{S}$, **image** bust be the 4D tensor, stack of $\\mathbf{X_{2014},X_{2015},X_{2016}}$, **pixels** must be $\\mathbf{J_{2016}}$ and **labels** must be $\\mathbf{Y^{j_{2016}}_{2017}}$.\n",
    "\n",
    "\\__getitem\\__(self, idx) returns the static image, the 4D tensor of time series of nonstatic images, the next year label and the coordinates of the pixel under that index."
   ]
  },
  {
   "cell_type": "code",
   "execution_count": null,
   "metadata": {},
   "outputs": [],
   "source": [
    "class DatasetRNN(Dataset):\n",
    "    \"\"\"\n",
    "    Data class for Moldel 2:4\n",
    "    get_item return static tensor (to be fed in the static branch)\n",
    "    and a 4d Tensor of non static iamges where the shape is as follows: \n",
    "    (c,t,h,w) = (channels per image ,time , h = 2*size+1, w = 2*size+1)\n",
    "    change_size sets new image size: h&w = 2*new_size + 1\n",
    "    \"\"\"\n",
    "\n",
    "    def __init__(self, size, static, images, pixels, labels ):\n",
    "        \n",
    "        self.size = size\n",
    "        self.static = static\n",
    "        self.images = images        \n",
    "        self.pixels = pixels\n",
    "        self.labels = labels\n",
    "        \n",
    "    def change_size(self, new_size):\n",
    "        self.size = new_size\n",
    "                     \n",
    "    def __getitem__(self, idx): \n",
    "                               \n",
    "        static = self.static[:,\n",
    "                              (self.pixels[idx,0] - self.size) : (self.pixels[idx,0] + self.size + 1),\n",
    "                              (self.pixels[idx,1] - self.size) : (self.pixels[idx,1] +self.size + 1)]\n",
    "                               #(c x t x h x w)\n",
    "        images = self.images[:,:,\n",
    "                                (self.pixels[idx,0] - self.size) : (self.pixels[idx,0] + self.size + 1),\n",
    "                                (self.pixels[idx,1] - self.size) : (self.pixels[idx,1] +self.size + 1)] \n",
    "        label = self.labels[idx]\n",
    "                      \n",
    "        return (static, images) , label\n",
    "\n",
    "    def __len__(self):\n",
    "        return len(self.pixels)\n",
    "    "
   ]
  },
  {
   "cell_type": "markdown",
   "metadata": {},
   "source": [
    "**load_RNNdata**\n",
    "<br>Function that takes size, start_year, end_year and returns DataRNN object corresponding to this time period and size\n",
    "\n",
    "If one wish to add extra static layers, than add_static must be a list of this tensors (2D or 3D for multi-channels)\n",
    "\n",
    "If one wish to add extra time layers, than add_time must be a list of lists of this tensors (2D or 3D for multi-channels) where the lists are sorted in time and are of lenght end_year - start_year + 1\n",
    "\n",
    "Eg:add_time = [[layer_1_2014, layer_2_2014],[layer_1_2015, layer_2_2015],[layer_1_2016, layer_2_2016]] where layer_1 and layer_2 can be 2D or 3D tensors."
   ]
  },
  {
   "cell_type": "code",
   "execution_count": null,
   "metadata": {},
   "outputs": [],
   "source": [
    "def load_RNNdata(size, start_year, end_year, add_static = None, add_time = None, path = wherepath):\n",
    "    \"\"\"\n",
    "    given start year, end year and size initilalize RNN data class \n",
    "    start year and end year define number of elements in the time series of imanges\n",
    "    size define the returned image size\n",
    "    path = path to saved tensors\n",
    "    \"\"\"\n",
    "    path = path + \"/\"\n",
    "    images = []\n",
    "    for i, year in enumerate(range(start_year,end_year+1)):\n",
    "        \n",
    "        image = torch.load(path+\"tensor_%d.pt\"%(year))\n",
    "               \n",
    "        if(add_time):\n",
    "            for to_add in add_time[i]:\n",
    "                if len(to_add.shape) == 2 :\n",
    "                    to_add = to_add.unsqueeze(dim = 0)\n",
    "                    image = torch.cat([image,to_add], dim = 0)\n",
    "                else:\n",
    "                    image = torch.cat([image,to_add], dim = 0) \n",
    "        \n",
    "        \n",
    "        image = image.unsqueeze(dim = 1)\n",
    "        images.append(image)\n",
    "        \n",
    "    images = torch.cat(images, dim = 1)\n",
    "    \n",
    "    static = torch.load(path+\"static.pt\")\n",
    "    \n",
    "    if(add_static):\n",
    "        for to_add in add_static:\n",
    "            if len(to_add.shape) == 2 :\n",
    "                to_add = to_add.unsqueeze(dim = 0)\n",
    "                static = torch.cat([static,to_add], dim = 0)\n",
    "            else:\n",
    "                static = torch.cat([static,to_add], dim = 0)    \n",
    "    \n",
    "    pixels = torch.load(path+\"pixels_cord_%d.pt\"%(end_year))\n",
    "    labels = torch.load(path+\"labels_%d.pt\"%(end_year)) \n",
    "    Data = DatasetRNN(size = size , images = images ,static = static, pixels = pixels, labels = labels)\n",
    "    return Data"
   ]
  },
  {
   "cell_type": "markdown",
   "metadata": {},
   "source": [
    "# Load Data"
   ]
  },
  {
   "cell_type": "markdown",
   "metadata": {},
   "source": [
    "## Load CNN data with two years pairs, 16 & 17\n",
    "<br> Data_16_17 = load_CNNdata(4, start_year = 16, end_year = 17, path = wherepath)    initialize CNN data for two years, 16 & 17 with image size 9\n",
    "<br> Data_16_17.change_size(2)    to change the image size from $2 \\times 4+1 = 9$ to $2 \\times 2+1 = 5$"
   ]
  },
  {
   "cell_type": "code",
   "execution_count": null,
   "metadata": {},
   "outputs": [],
   "source": [
    "Data_16_17 = load_CNNdata(4, start_year = 16, end_year = 17, path = wherepath)\n",
    "print(\"Data lenght of 2 years:\",len(Data_16_17))\n",
    "loss = (Data_16_17.labels == 1).nonzero()\n",
    "print(\"% deforested valid pixels in 2017 and 2018:\")\n",
    "print(len(loss)/len(Data_16_17.labels))\n",
    "print(\"\\nFirst band of statelite image layer: \\n\")\n",
    "print(Data_16_17[8498][0][-4,:,:])\n",
    "print(\"\\nChnage size from 9 to 5:\\n\")\n",
    "Data_16_17.change_size(2)\n",
    "print(\"\\n\")\n",
    "print(Data_16_17[8498][0][-4,:,:])\n",
    "del Data_16_17"
   ]
  },
  {
   "cell_type": "markdown",
   "metadata": {},
   "source": [
    "## Load 1 year data CNN\n",
    "Data_17 = load_CNNdata(4, start_year = 17, end_year = 17, path = wherepath)"
   ]
  },
  {
   "cell_type": "code",
   "execution_count": null,
   "metadata": {},
   "outputs": [],
   "source": [
    "Data_17 = load_CNNdata(4, start_year = 17, end_year = 17, path = wherepath)\n",
    "print(\"% valid pixels deforested in 2018: \",len((Data_17.labels == 1).nonzero())/len(Data_17))\n",
    "print(\"\\nFirst band of statelite image layer: \\n\")\n",
    "print(Data_17[55555][0][-4,:,:])\n",
    "print(\"\\nChnage size from 9 to 5:\\n\")\n",
    "Data_17.change_size(2)\n",
    "print(Data_17[55555][0][-4,:,:])\n",
    "del Data_17"
   ]
  },
  {
   "cell_type": "markdown",
   "metadata": {},
   "source": [
    "# Add DSM static tensor after it being transformed and rescaled  "
   ]
  },
  {
   "cell_type": "code",
   "execution_count": null,
   "metadata": {},
   "outputs": [],
   "source": [
    "DSM = torch.load(wherepath+\"/DSM.pt\")"
   ]
  },
  {
   "cell_type": "code",
   "execution_count": null,
   "metadata": {},
   "outputs": [],
   "source": [
    "Data_17 = load_CNNdata(4, start_year = 17, end_year = 17, path = wherepath, add_static = [DSM])"
   ]
  },
  {
   "cell_type": "markdown",
   "metadata": {},
   "source": [
    "### data with updated layers:"
   ]
  },
  {
   "cell_type": "code",
   "execution_count": null,
   "metadata": {},
   "outputs": [],
   "source": [
    "Data_17[99][0].shape"
   ]
  },
  {
   "cell_type": "markdown",
   "metadata": {},
   "source": [
    "# Load RNN data:\n",
    "RNNData = load_RNNdata(size = 2 , start_year = 14 , end_year = 17)"
   ]
  },
  {
   "cell_type": "code",
   "execution_count": null,
   "metadata": {},
   "outputs": [],
   "source": [
    "RNNData = load_RNNdata(size = 2 , start_year = 14 , end_year = 16)\n",
    "print(\"shape of the statich tensor: (static chanels, h, w) = \",RNNData[22][0][0].shape) # static\n",
    "print(\"shape of the non statich tensor: (static chanels, time, h, w) = \",RNNData[22][0][1].shape) # images\n",
    "loss = (RNNData.labels == 1).nonzero()\n",
    "print(\"% deforested valid pixels in 2017:\")\n",
    "print(len(loss)/len(RNNData.labels))\n",
    "del(RNNData)"
   ]
  },
  {
   "cell_type": "markdown",
   "metadata": {},
   "source": [
    "# Summary:\n",
    "<br> 1) Save tensors with :"
   ]
  },
  {
   "cell_type": "code",
   "execution_count": 21,
   "metadata": {},
   "outputs": [
    {
     "name": "stdout",
     "output_type": "stream",
     "text": [
      "14\n",
      "Files saved!\n",
      "\n",
      "\n",
      "15\n",
      "Files saved!\n",
      "\n",
      "\n",
      "16\n",
      "Files saved!\n",
      "\n",
      "\n",
      "17\n",
      "Files saved!\n",
      "\n",
      "\n",
      "18\n",
      "Files saved!\n",
      "\n",
      "\n"
     ]
    }
   ],
   "source": [
    "  for year in range(14,18):\n",
    "    print(year)\n",
    "    static, image, pixels,labels = create_tnsors_pixels(year, tree_p = 0.3,\n",
    "                                                       cutoffs = [2,5,8],\n",
    "                                                       sourcepath = sourcepath,\n",
    "                                                       wherepath = wherepath)\n",
    "    print(\"Files saved!\")\n",
    "    print(\"\\n\") "
   ]
  },
  {
   "cell_type": "markdown",
   "metadata": {},
   "source": [
    "2) Load data with:"
   ]
  },
  {
   "cell_type": "markdown",
   "metadata": {},
   "source": [
    "CNNData_16_17 = load_CNNdata(4, start_year = 16, end_year = 17, path = wherepath)\n",
    "\n",
    "CNNData_17 = load_CNNdata(4, start_year = 17, end_year = 17, path = wherepath)\n",
    "\n",
    "RNNData = load_RNNdata(size = 4 , start_year = 14 , end_year = 16, path = wherepath)"
   ]
  },
  {
   "cell_type": "markdown",
   "metadata": {},
   "source": [
    "To add extra static layer:\n",
    "        \n",
    "        server = '/rdsgpfs/general/user/kpp15/home/Hansen'\n",
    "        wherepath = server + '/data/raster/tensors'\n",
    "\n",
    "        %cd server+ '/deforestation_forecasting/python_code'\n",
    "        from Data_maker_loader import *\n",
    "\n",
    "        DSM = torch.load(wherepath+\"/DSM.pt\")\n",
    "\n",
    "        CNNdata = load_CNNdata(size = 45, start_year = 16, end_year = 16, path = wherepath, add_static = [DSM])\n",
    "    # or\n",
    "        CNNdata = load_CNNdata(size = 45, start_year = 14, end_year = 16, path = wherepath, add_static = [DSM])\n",
    "    # or\n",
    "        RNNdata = load_RNNdata(size = 45, start_year = 14, end_year = 16, path = wherepath, add_static = [DSM])    "
   ]
  },
  {
   "cell_type": "markdown",
   "metadata": {},
   "source": [
    "# Appendix"
   ]
  },
  {
   "cell_type": "markdown",
   "metadata": {},
   "source": [
    "## idx - image map for CNN data with several {image,next_year_label} pairs.\n",
    "\n",
    "<br>Pixels cordinates from different years and labels from different years are mixed, more specifically concated sequentially. Get the correct image for given index, and therefore pixel[index], label[index].\n",
    "<br> Example: 4 years, year 1 have 3 pixels, year 2 - 6, year 3 - 1, year 4 - 5.\n",
    "<br> Pixels and labels are concated and make in total 15 data points.\n",
    "<br> Four different images correspond to indexes 0:3, 3:9, 9:9, 10:15\n",
    "<br> Note 0:3 returns 0,1,2 and 0:15 returns 0,1,2,..14. Python indexing start from 0"
   ]
  },
  {
   "cell_type": "code",
   "execution_count": null,
   "metadata": {},
   "outputs": [],
   "source": [
    "v = [[1,1,1],[1,1,1,1,1,1,],[1],[1,1,1,1,1]]\n",
    "lenghts = [ len(i) for i in v ]\n",
    "print(\"num of pixels in each year: \",lenghts)\n",
    "csum = list(np.cumsum(lenghts))\n",
    "print(\"Culminative sum of number of pixels in each year: \",csum)\n",
    "csum.insert(0,0)\n",
    "\n",
    "for idx in range(0,csum[-1]):\n",
    "    for i in range(1,len(csum)):\n",
    "        if ((idx >= csum[i-1]) & (idx < csum[i])):              \n",
    "            print(\"idx : \",idx,\"in tensor: \",i-1)\n",
    "            break;"
   ]
  }
 ],
 "metadata": {
  "kernelspec": {
   "display_name": "Python [conda env:py37]",
   "language": "python",
   "name": "conda-env-py37-py"
  },
  "language_info": {
   "codemirror_mode": {
    "name": "ipython",
    "version": 3
   },
   "file_extension": ".py",
   "mimetype": "text/x-python",
   "name": "python",
   "nbconvert_exporter": "python",
   "pygments_lexer": "ipython3",
   "version": "3.7.3"
  }
 },
 "nbformat": 4,
 "nbformat_minor": 2
}
